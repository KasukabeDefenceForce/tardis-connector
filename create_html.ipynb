{
 "cells": [
  {
   "cell_type": "markdown",
   "metadata": {},
   "source": [
    "Notebook to create new html pages"
   ]
  },
  {
   "cell_type": "code",
   "execution_count": 1,
   "metadata": {},
   "outputs": [],
   "source": [
    "from pathlib import Path\n",
    "from jinja2 import Environment, FileSystemLoader\n",
    "from datetime import datetime\n",
    "import json"
   ]
  },
  {
   "cell_type": "code",
   "execution_count": 2,
   "metadata": {},
   "outputs": [],
   "source": [
    "TEMPLATE_PATH = Path(\"templates\")\n",
    "HOSTING_PATH = Path(\"all_events\")\n",
    "environment = Environment(\n",
    "    loader=FileSystemLoader(TEMPLATE_PATH),\n",
    "    extensions=[\"jinja2.ext.loopcontrols\", \"jinja2.ext.do\"],\n",
    ")"
   ]
  },
  {
   "cell_type": "code",
   "execution_count": 3,
   "metadata": {},
   "outputs": [
    {
     "data": {
      "text/plain": [
       "{'title': 'Tardis-Connector',\n",
       " 'start_date': '2025/03/17',\n",
       " 'end_date': '2025/03/21',\n",
       " 'desc': ['The TARDIS Connector Workshop 2025 is a collaborative event dedicated to advancing our understanding of stripped-envelope supernovae by leveraging the expertise and tools of the open science astrophysics community. This workshop will bring together specialists in atomic physics, stellar evolution, hydrodynamics, and radiative transport to develop workflows that connect stellar evolution models to synthetic observables.'],\n",
       " 'time': '9:00',\n",
       " 'location': '12th Floor, Flatiron Building, 175 5th Avenue, New York, NY 10010',\n",
       " 'extra_info': {'title': 'What are we trying to achieve?',\n",
       "  'desc': ['This workshop offers a unique opportunity for collaborative problem-solving rather than traditional presentations. Developers and contributors across different software teams (MESA, Flash-X, STELLA, and TARDIS) will work together to tackle the interfaces between the codes. Our aim is to produce a comprehensive model framework and reproducible recipes to address the physics needed for stripped-envelope supernovae simulation.']},\n",
       " 'panels': [{'title': 'MESA',\n",
       "   'url': 'https://docs.mesastar.org/en/24.08.1/',\n",
       "   'intro': 'MESA is a powerful and versatile open-source software suite built to allow users to run experiments in stellar evolution. Stellar evolution calculations are a basic tool that enable a broad range of research in various astrophysics areas such as asteroseismology, nuclear astrophysics, stellar populations, chemical evolution and population synthesis etc.',\n",
       "   'logo': 'assets/images/mesa.png'},\n",
       "  {'title': 'FLASH-X',\n",
       "   'url': 'https://flash-x.org/',\n",
       "   'intro': 'Flash-X, is a highly composable multiphysics software system that can be used to simulate physical phenomena in several scientific domains. It can simulates core collapse supernovae by modeling the fluid dynamics, nuclear reactions, and neutrino transport during the collapse and explosion.',\n",
       "   'logo': 'assets/images/flash-x.png'},\n",
       "  {'title': 'STELLA',\n",
       "   'url': 'https://github.com/sblinnikov/OpenStella',\n",
       "   'intro': 'STELLA is a one-dimensional code used to simulate how light interacts with matter during stellar explosions like supernovae. It combines physics of motion (hydrodynamics) and radiation to create models of how supernovae properties evolve over time. The public version of STELLA is integrated with MESA.',\n",
       "   'logo': 'assets/images/stella.png'},\n",
       "  {'title': 'TARDIS',\n",
       "   'url': 'https://tardis-sn.github.io/',\n",
       "   'intro': 'TARDIS is an open-source Monte Carlo radiative-transfer spectral synthesis code for 1D models of supernova ejecta. It is designed for rapid spectral modelling of supernovae. It provides several tools for physics calculation and visualization to make your supernova research easier.',\n",
       "   'logo': 'assets/images/tardis-logo-2.svg'}],\n",
       " 'soc': [{'name': 'Matteo Cantiello',\n",
       "   'imageSource': 'assets/images/soc/matteo.png',\n",
       "   'institution': 'Center for Computational Astrophysics, Flatiron Institute'},\n",
       "  {'name': 'Sean Couch',\n",
       "   'imageSource': 'assets/images/soc/couch-sean-cropped.jpg',\n",
       "   'institution': 'Michigan State University'},\n",
       "  {'name': 'Jared Goldberg',\n",
       "   'imageSource': 'assets/images/soc/jared.png',\n",
       "   'institution': 'Center for Computational Astrophysics, Flatiron Institute'},\n",
       "  {'name': 'Wolfgang Kerzendorf',\n",
       "   'imageSource': 'assets/images/soc/wolfgang.jpg',\n",
       "   'institution': 'Michigan State University'},\n",
       "  {'name': 'Jing Lu',\n",
       "   'imageSource': 'assets/images/soc/jing.jpg',\n",
       "   'institution': 'Michigan State University'},\n",
       "  {'name': 'Brian Metzger',\n",
       "   'imageSource': 'assets/images/soc/bmetzger.jpg',\n",
       "   'institution': 'Center for Computational Astrophysics, Flatiron Institute'}]}"
      ]
     },
     "execution_count": 3,
     "metadata": {},
     "output_type": "execute_result"
    }
   ],
   "source": [
    "with open('event_details.json', 'r') as f:\n",
    "    details = json.load(f)\n",
    "details"
   ]
  },
  {
   "cell_type": "code",
   "execution_count": 4,
   "metadata": {},
   "outputs": [],
   "source": [
    "# YYYY/MM/DD format\n",
    "start_date = details['start_date']\n",
    "start_time = details['time']\n",
    "start_date_time_str = f\"{start_date} {start_time}\"\n",
    "start_date_datetime = datetime.strptime(start_date_time_str, \"%Y/%m/%d %H:%M\")\n",
    "\n",
    "# Parse the end date (only the date is considered)\n",
    "end_date = details['end_date']\n",
    "end_date_datetime = datetime.strptime(end_date, \"%Y/%m/%d\")\n",
    "\n",
    "# Extract the year from the end_date\n",
    "event_year = end_date_datetime.year\n",
    "\n",
    "# Generate the HTML page name using the event year\n",
    "html_page_name = f\"{event_year}.html\""
   ]
  },
  {
   "cell_type": "code",
   "execution_count": 5,
   "metadata": {},
   "outputs": [],
   "source": [
    "page_template = environment.get_template(\"landingpage.html\")\n",
    "template_level = html_page_name.count(\"/\")\n",
    "page_html_path = html_page_name\n",
    "page_content = page_template.render(\n",
    "    TEMPLATE_LEVEL=template_level,\n",
    "    start_date=start_date_datetime,\n",
    "    end_date=end_date_datetime,\n",
    "    event_year=event_year,\n",
    "    details=details\n",
    ")\n",
    "with open(page_html_path, mode=\"w\", encoding=\"utf-8\") as page:\n",
    "    page.write(page_content)"
   ]
  },
  {
   "cell_type": "code",
   "execution_count": 6,
   "metadata": {},
   "outputs": [],
   "source": [
    "# import time\n",
    "# from datetime import datetime\n",
    "\n",
    "# # Target date and time\n",
    "# target_date_str = \"2025/03/17 09:00\"  # Format: YYYY/MM/DD HH:MM\n",
    "# target_date = datetime.strptime(target_date_str, \"%Y/%m/%d %H:%M\")\n",
    "\n",
    "# # Countdown logic\n",
    "# while True:\n",
    "#     # Get the current date and time\n",
    "#     now = datetime.now()\n",
    "\n",
    "#     # Calculate the time remaining\n",
    "#     time_remaining = target_date - now\n",
    "\n",
    "#     if time_remaining.total_seconds() <= 0:\n",
    "#         print(\"Countdown Complete!\")\n",
    "#         break\n",
    "\n",
    "#     # Extract days, hours, minutes, and seconds\n",
    "#     days = time_remaining.days\n",
    "#     hours, remainder = divmod(time_remaining.seconds, 3600)\n",
    "#     minutes, seconds = divmod(remainder, 60)\n",
    "\n",
    "#     # Display the countdown\n",
    "#     print(f\"Countdown: {days}d {hours}h {minutes}m {seconds}s\", end=\"\\r\")\n",
    "\n",
    "#     # Wait for 1 second before updating\n",
    "#     time.sleep(1)\n"
   ]
  },
  {
   "cell_type": "code",
   "execution_count": 7,
   "metadata": {},
   "outputs": [],
   "source": [
    "page_template = environment.get_template(\"index_template.html\")\n",
    "template_level = html_page_name.count(\"/\")\n",
    "index_html_path = \"index.html\"\n",
    "index_page_content = page_template.render(\n",
    "    TEMPLATE_LEVEL=template_level,\n",
    "    current_year=event_year\n",
    ")\n",
    "with open(index_html_path, mode=\"w\", encoding=\"utf-8\") as index_page:\n",
    "    index_page.write(index_page_content)"
   ]
  }
 ],
 "metadata": {
  "kernelspec": {
   "display_name": "base",
   "language": "python",
   "name": "python3"
  },
  "language_info": {
   "codemirror_mode": {
    "name": "ipython",
    "version": 3
   },
   "file_extension": ".py",
   "mimetype": "text/x-python",
   "name": "python",
   "nbconvert_exporter": "python",
   "pygments_lexer": "ipython3",
   "version": "3.10.14"
  }
 },
 "nbformat": 4,
 "nbformat_minor": 2
}
